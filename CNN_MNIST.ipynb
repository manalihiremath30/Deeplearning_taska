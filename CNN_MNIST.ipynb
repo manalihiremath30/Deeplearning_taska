{
 "cells": [
  {
   "cell_type": "code",
   "execution_count": 22,
   "metadata": {},
   "outputs": [],
   "source": [
    "import torch\n",
    "import torch.nn as nn\n",
    "import torch.nn.functional as F\n",
    "import torchvision\n",
    "import torchvision.transforms as transforms\n",
    "import numpy as np"
   ]
  },
  {
   "cell_type": "code",
   "execution_count": 23,
   "metadata": {},
   "outputs": [],
   "source": [
    "device = torch.device('cuda' if torch.cuda.is_available() else 'cpu')\n"
   ]
  },
  {
   "cell_type": "code",
   "execution_count": 46,
   "metadata": {},
   "outputs": [],
   "source": [
    "#hyper parameters\n",
    "\n",
    "input_size = 784\n",
    "num_classes = 10\n",
    "batch_size = 100\n",
    "num_epochs = 20\n",
    "learning_rate= 0.001"
   ]
  },
  {
   "cell_type": "code",
   "execution_count": 47,
   "metadata": {},
   "outputs": [],
   "source": [
    "#MNIST\n",
    "\n",
    "train_dataset = torchvision.datasets.MNIST(root='./data', train=True, download=True, transform=transforms.ToTensor())\n",
    "\n",
    "test_dataset = torchvision.datasets.MNIST(root='./data', train=False, download=True, transform=transforms.ToTensor())\n",
    "\n",
    "train_loader = torch.utils.data.DataLoader(dataset=train_dataset, batch_size=batch_size, shuffle=True)\n",
    "\n",
    "test_loader = torch.utils.data.DataLoader(dataset=test_dataset, batch_size=batch_size, shuffle=False)"
   ]
  },
  {
   "cell_type": "code",
   "execution_count": 48,
   "metadata": {},
   "outputs": [
    {
     "name": "stdout",
     "output_type": "stream",
     "text": [
      "torch.Size([100, 1, 28, 28]) torch.Size([100])\n"
     ]
    }
   ],
   "source": [
    "examples = iter(train_loader)\n",
    "samples, labels = examples.next()\n",
    "print(samples.shape, labels.shape)"
   ]
  },
  {
   "cell_type": "code",
   "execution_count": 49,
   "metadata": {},
   "outputs": [
    {
     "name": "stdout",
     "output_type": "stream",
     "text": [
      "NeuralNet(\n",
      "  (conv1): Conv2d(1, 32, kernel_size=(5, 5), stride=(1, 1))\n",
      "  (pool): MaxPool2d(kernel_size=2, stride=2, padding=0, dilation=1, ceil_mode=False)\n",
      "  (conv2): Conv2d(32, 64, kernel_size=(5, 5), stride=(1, 1))\n",
      "  (fc1): Linear(in_features=1024, out_features=204, bias=True)\n",
      "  (fc2): Linear(in_features=204, out_features=40, bias=True)\n",
      "  (fc3): Linear(in_features=40, out_features=10, bias=True)\n",
      ")\n"
     ]
    }
   ],
   "source": [
    "class NeuralNet(nn.Module):\n",
    "    def __init__(self):\n",
    "        super(NeuralNet, self).__init__()   \n",
    "        self.conv1 = nn.Conv2d(1, 32, 5)     \n",
    "        self.pool = nn.MaxPool2d(2,2)       \n",
    "        self.conv2 = nn.Conv2d(32, 64, 5)    \n",
    "        self.fc1 = nn.Linear(64 * 4 * 4, 204) \n",
    "        self.fc2 = nn.Linear(204, 40)\n",
    "        self.fc3 = nn.Linear(40, 10)\n",
    "        \n",
    "    def forward(self, x):\n",
    "        x = self.pool(F.relu(self.conv1(x)))\n",
    "        x = self.pool(F.relu(self.conv2(x)))\n",
    "        #print(x.shape)\n",
    "        x = x.view(-1, 64 * 4 * 4)\n",
    "        x = F.relu(self.fc1(x))\n",
    "        x = F.relu(self.fc2(x))\n",
    "        x = self.fc3(x)\n",
    "        return x\n",
    "model = NeuralNet()\n",
    "print(model)\n",
    "    \n",
    "        "
   ]
  },
  {
   "cell_type": "code",
   "execution_count": 50,
   "metadata": {},
   "outputs": [],
   "source": [
    "criterion = nn.CrossEntropyLoss()\n",
    "optimizer = torch.optim.SGD(model.parameters(), lr=learning_rate)"
   ]
  },
  {
   "cell_type": "code",
   "execution_count": 53,
   "metadata": {},
   "outputs": [
    {
     "name": "stdout",
     "output_type": "stream",
     "text": [
      "Epoch [1/20], Step [100/600], Loss: 0.2825\n",
      "Epoch [1/20], Step [200/600], Loss: 0.2077\n",
      "Epoch [1/20], Step [300/600], Loss: 0.4602\n",
      "Epoch [1/20], Step [400/600], Loss: 0.2970\n",
      "Epoch [1/20], Step [500/600], Loss: 0.4226\n",
      "Epoch [1/20], Step [600/600], Loss: 0.3333\n",
      "Epoch [2/20], Step [100/600], Loss: 0.3200\n",
      "Epoch [2/20], Step [200/600], Loss: 0.4940\n",
      "Epoch [2/20], Step [300/600], Loss: 0.2785\n",
      "Epoch [2/20], Step [400/600], Loss: 0.4899\n",
      "Epoch [2/20], Step [500/600], Loss: 0.3926\n",
      "Epoch [2/20], Step [600/600], Loss: 0.3056\n",
      "Epoch [3/20], Step [100/600], Loss: 0.5266\n",
      "Epoch [3/20], Step [200/600], Loss: 0.2517\n",
      "Epoch [3/20], Step [300/600], Loss: 0.3322\n",
      "Epoch [3/20], Step [400/600], Loss: 0.2052\n",
      "Epoch [3/20], Step [500/600], Loss: 0.3515\n",
      "Epoch [3/20], Step [600/600], Loss: 0.4042\n",
      "Epoch [4/20], Step [100/600], Loss: 0.1935\n",
      "Epoch [4/20], Step [200/600], Loss: 0.3474\n",
      "Epoch [4/20], Step [300/600], Loss: 0.2323\n",
      "Epoch [4/20], Step [400/600], Loss: 0.3373\n",
      "Epoch [4/20], Step [500/600], Loss: 0.3849\n",
      "Epoch [4/20], Step [600/600], Loss: 0.1993\n",
      "Epoch [5/20], Step [100/600], Loss: 0.3512\n",
      "Epoch [5/20], Step [200/600], Loss: 0.4570\n",
      "Epoch [5/20], Step [300/600], Loss: 0.1939\n",
      "Epoch [5/20], Step [400/600], Loss: 0.3716\n",
      "Epoch [5/20], Step [500/600], Loss: 0.2668\n",
      "Epoch [5/20], Step [600/600], Loss: 0.2971\n",
      "Epoch [6/20], Step [100/600], Loss: 0.3224\n",
      "Epoch [6/20], Step [200/600], Loss: 0.2367\n",
      "Epoch [6/20], Step [300/600], Loss: 0.2779\n",
      "Epoch [6/20], Step [400/600], Loss: 0.1983\n",
      "Epoch [6/20], Step [500/600], Loss: 0.2320\n",
      "Epoch [6/20], Step [600/600], Loss: 0.3054\n",
      "Epoch [7/20], Step [100/600], Loss: 0.2851\n",
      "Epoch [7/20], Step [200/600], Loss: 0.2193\n",
      "Epoch [7/20], Step [300/600], Loss: 0.3208\n",
      "Epoch [7/20], Step [400/600], Loss: 0.3453\n",
      "Epoch [7/20], Step [500/600], Loss: 0.2607\n",
      "Epoch [7/20], Step [600/600], Loss: 0.2670\n",
      "Epoch [8/20], Step [100/600], Loss: 0.2393\n",
      "Epoch [8/20], Step [200/600], Loss: 0.2379\n",
      "Epoch [8/20], Step [300/600], Loss: 0.1935\n",
      "Epoch [8/20], Step [400/600], Loss: 0.2097\n",
      "Epoch [8/20], Step [500/600], Loss: 0.1444\n",
      "Epoch [8/20], Step [600/600], Loss: 0.2108\n",
      "Epoch [9/20], Step [100/600], Loss: 0.2278\n",
      "Epoch [9/20], Step [200/600], Loss: 0.2704\n",
      "Epoch [9/20], Step [300/600], Loss: 0.2831\n",
      "Epoch [9/20], Step [400/600], Loss: 0.1834\n",
      "Epoch [9/20], Step [500/600], Loss: 0.2756\n",
      "Epoch [9/20], Step [600/600], Loss: 0.2610\n",
      "Epoch [10/20], Step [100/600], Loss: 0.2301\n",
      "Epoch [10/20], Step [200/600], Loss: 0.4631\n",
      "Epoch [10/20], Step [300/600], Loss: 0.1781\n",
      "Epoch [10/20], Step [400/600], Loss: 0.1894\n",
      "Epoch [10/20], Step [500/600], Loss: 0.3064\n",
      "Epoch [10/20], Step [600/600], Loss: 0.1531\n",
      "Epoch [11/20], Step [100/600], Loss: 0.2478\n",
      "Epoch [11/20], Step [200/600], Loss: 0.1899\n",
      "Epoch [11/20], Step [300/600], Loss: 0.3886\n",
      "Epoch [11/20], Step [400/600], Loss: 0.2196\n",
      "Epoch [11/20], Step [500/600], Loss: 0.1817\n",
      "Epoch [11/20], Step [600/600], Loss: 0.1696\n",
      "Epoch [12/20], Step [100/600], Loss: 0.2989\n",
      "Epoch [12/20], Step [200/600], Loss: 0.2098\n",
      "Epoch [12/20], Step [300/600], Loss: 0.3590\n",
      "Epoch [12/20], Step [400/600], Loss: 0.2535\n",
      "Epoch [12/20], Step [500/600], Loss: 0.2075\n",
      "Epoch [12/20], Step [600/600], Loss: 0.1308\n",
      "Epoch [13/20], Step [100/600], Loss: 0.2909\n",
      "Epoch [13/20], Step [200/600], Loss: 0.2871\n",
      "Epoch [13/20], Step [300/600], Loss: 0.1550\n",
      "Epoch [13/20], Step [400/600], Loss: 0.1241\n",
      "Epoch [13/20], Step [500/600], Loss: 0.1854\n",
      "Epoch [13/20], Step [600/600], Loss: 0.2784\n",
      "Epoch [14/20], Step [100/600], Loss: 0.2112\n",
      "Epoch [14/20], Step [200/600], Loss: 0.1728\n",
      "Epoch [14/20], Step [300/600], Loss: 0.1971\n",
      "Epoch [14/20], Step [400/600], Loss: 0.1513\n",
      "Epoch [14/20], Step [500/600], Loss: 0.1449\n",
      "Epoch [14/20], Step [600/600], Loss: 0.3864\n",
      "Epoch [15/20], Step [100/600], Loss: 0.1570\n",
      "Epoch [15/20], Step [200/600], Loss: 0.2295\n",
      "Epoch [15/20], Step [300/600], Loss: 0.1961\n",
      "Epoch [15/20], Step [400/600], Loss: 0.1207\n",
      "Epoch [15/20], Step [500/600], Loss: 0.1295\n",
      "Epoch [15/20], Step [600/600], Loss: 0.2982\n",
      "Epoch [16/20], Step [100/600], Loss: 0.2568\n",
      "Epoch [16/20], Step [200/600], Loss: 0.1251\n",
      "Epoch [16/20], Step [300/600], Loss: 0.2266\n",
      "Epoch [16/20], Step [400/600], Loss: 0.2182\n",
      "Epoch [16/20], Step [500/600], Loss: 0.3777\n",
      "Epoch [16/20], Step [600/600], Loss: 0.3234\n",
      "Epoch [17/20], Step [100/600], Loss: 0.1799\n",
      "Epoch [17/20], Step [200/600], Loss: 0.2087\n",
      "Epoch [17/20], Step [300/600], Loss: 0.1707\n",
      "Epoch [17/20], Step [400/600], Loss: 0.1611\n",
      "Epoch [17/20], Step [500/600], Loss: 0.1145\n",
      "Epoch [17/20], Step [600/600], Loss: 0.2026\n",
      "Epoch [18/20], Step [100/600], Loss: 0.2493\n",
      "Epoch [18/20], Step [200/600], Loss: 0.2285\n",
      "Epoch [18/20], Step [300/600], Loss: 0.3373\n",
      "Epoch [18/20], Step [400/600], Loss: 0.1098\n",
      "Epoch [18/20], Step [500/600], Loss: 0.1363\n",
      "Epoch [18/20], Step [600/600], Loss: 0.2670\n",
      "Epoch [19/20], Step [100/600], Loss: 0.2627\n",
      "Epoch [19/20], Step [200/600], Loss: 0.2026\n",
      "Epoch [19/20], Step [300/600], Loss: 0.1734\n",
      "Epoch [19/20], Step [400/600], Loss: 0.1764\n",
      "Epoch [19/20], Step [500/600], Loss: 0.1498\n",
      "Epoch [19/20], Step [600/600], Loss: 0.0982\n",
      "Epoch [20/20], Step [100/600], Loss: 0.2349\n",
      "Epoch [20/20], Step [200/600], Loss: 0.1775\n",
      "Epoch [20/20], Step [300/600], Loss: 0.1283\n",
      "Epoch [20/20], Step [400/600], Loss: 0.1715\n",
      "Epoch [20/20], Step [500/600], Loss: 0.1287\n",
      "Epoch [20/20], Step [600/600], Loss: 0.1719\n",
      "Finished Training\n"
     ]
    }
   ],
   "source": [
    "#training\n",
    "n_total_steps = len(train_loader)\n",
    "for epoch in range(num_epochs):\n",
    "    for i, (images,labels) in enumerate(train_loader):\n",
    "        \n",
    "        images = images.to(device)\n",
    "        labels = labels.to(device)\n",
    "        \n",
    "        #Forward pass\n",
    "        output = model(images)\n",
    "        loss = criterion(output, labels)\n",
    "        \n",
    "        #backward and optimizer\n",
    "        optimizer.zero_grad()\n",
    "        loss.backward()\n",
    "        optimizer.step()\n",
    "        \n",
    "        if (i+1) % 100 == 0:\n",
    "            print (f'Epoch [{epoch+1}/{num_epochs}], Step [{i+1}/{n_total_steps}], Loss: {loss.item():.4f}')\n",
    "\n",
    "print('Finished Training')\n",
    "        \n",
    "    \n",
    "    \n",
    "    \n",
    "    "
   ]
  },
  {
   "cell_type": "code",
   "execution_count": 54,
   "metadata": {},
   "outputs": [
    {
     "name": "stdout",
     "output_type": "stream",
     "text": [
      "Accuracy of the network: 95.39 %\n"
     ]
    }
   ],
   "source": [
    "#testing\n",
    "\n",
    "with torch.no_grad():\n",
    "    n_correct = 0\n",
    "    n_samples = 0\n",
    "    n_class_correct = [0 for i in range(10)]\n",
    "    n_class_samples = [0 for i in range(10)]\n",
    "    for images, labels in test_loader:\n",
    "        images = images.to(device)\n",
    "        labels = labels.to(device)\n",
    "        outputs = model(images)\n",
    "        # max returns (value ,index)\n",
    "        _, predicted = torch.max(outputs, 1)\n",
    "        n_samples += labels.size(0)\n",
    "        n_correct += (predicted == labels).sum().item()\n",
    "        \n",
    "        for i in range(batch_size):\n",
    "            label = labels[i]\n",
    "            pred = predicted[i]\n",
    "            if (label == pred):\n",
    "                n_class_correct[label] += 1\n",
    "            n_class_samples[label] += 1\n",
    "\n",
    "    acc = 100.0 * n_correct / n_samples\n",
    "    print(f'Accuracy of the network: {acc} %')\n",
    "\n",
    "    "
   ]
  },
  {
   "cell_type": "code",
   "execution_count": null,
   "metadata": {},
   "outputs": [],
   "source": []
  },
  {
   "cell_type": "code",
   "execution_count": null,
   "metadata": {},
   "outputs": [],
   "source": []
  }
 ],
 "metadata": {
  "kernelspec": {
   "display_name": "Python 3",
   "language": "python",
   "name": "python3"
  },
  "language_info": {
   "codemirror_mode": {
    "name": "ipython",
    "version": 3
   },
   "file_extension": ".py",
   "mimetype": "text/x-python",
   "name": "python",
   "nbconvert_exporter": "python",
   "pygments_lexer": "ipython3",
   "version": "3.8.5"
  }
 },
 "nbformat": 4,
 "nbformat_minor": 4
}
