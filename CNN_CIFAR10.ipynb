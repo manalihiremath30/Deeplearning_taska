{
 "cells": [
  {
   "cell_type": "code",
   "execution_count": 8,
   "metadata": {},
   "outputs": [],
   "source": [
    "import torch\n",
    "import torch.nn as nn\n",
    "import torch.nn.functional as F\n",
    "import torchvision\n",
    "import torchvision.transforms as transforms\n",
    "import matplotlib.pyplot as plt\n",
    "import numpy as np"
   ]
  },
  {
   "cell_type": "code",
   "execution_count": 9,
   "metadata": {},
   "outputs": [],
   "source": [
    "device = torch.device('cuda' if torch.cuda.is_available() else 'cpu')"
   ]
  },
  {
   "cell_type": "code",
   "execution_count": 10,
   "metadata": {},
   "outputs": [],
   "source": [
    "#hyper parameters\n",
    "num_epochs=10\n",
    "num_classes=10\n",
    "batch_size=4\n",
    "learning_rate=0.001\n",
    "input_size = 1024"
   ]
  },
  {
   "cell_type": "code",
   "execution_count": 11,
   "metadata": {},
   "outputs": [],
   "source": [
    "#dataset has PIL images of size [0,1]\n",
    "#transform them to tensors of range [-1,1]\n",
    "\n",
    "transform = transforms.Compose([transforms.ToTensor(),transforms.Normalize((0.5,0.5,0.5),(0.5,0.5,0.5))])"
   ]
  },
  {
   "cell_type": "code",
   "execution_count": 12,
   "metadata": {},
   "outputs": [
    {
     "name": "stdout",
     "output_type": "stream",
     "text": [
      "Files already downloaded and verified\n",
      "Files already downloaded and verified\n"
     ]
    }
   ],
   "source": [
    "train_dataset = torchvision.datasets.CIFAR10(root='./data', train=True, download=True, transform=transform)\n",
    "\n",
    "test_dataset = torchvision.datasets.CIFAR10(root='./data', train=False, download=True, transform=transform)\n",
    "\n",
    "train_loader = torch.utils.data.DataLoader(train_dataset, batch_size=batch_size, shuffle=True)\n",
    "\n",
    "test_loader = torch.utils.data.DataLoader(test_dataset, batch_size=batch_size, shuffle=False)"
   ]
  },
  {
   "cell_type": "code",
   "execution_count": 6,
   "metadata": {},
   "outputs": [
    {
     "name": "stdout",
     "output_type": "stream",
     "text": [
      "torch.Size([4, 3, 32, 32]) torch.Size([4])\n"
     ]
    }
   ],
   "source": [
    "examples = iter(train_loader)\n",
    "samples, labels = examples.next()\n",
    "print(samples.shape, labels.shape)\n"
   ]
  },
  {
   "cell_type": "code",
   "execution_count": 10,
   "metadata": {},
   "outputs": [],
   "source": [
    "classes = ('plane', 'car', 'bird', 'cat', 'deer', 'dog', 'frog', 'horse', 'ship', 'truck')\n"
   ]
  },
  {
   "cell_type": "code",
   "execution_count": 11,
   "metadata": {},
   "outputs": [],
   "source": [
    "#implement convnet\n",
    "\n",
    "class Net(nn.Module):\n",
    "    def __init__(self):\n",
    "        super(Net, self).__init__()\n",
    "        self.conv1 = nn.Conv2d(3, 6, 5)         6,28,28\n",
    "        self.pool = nn.MaxPool2d(2, 2)          6,14,14\n",
    "        self.conv2 = nn.Conv2d(6, 16, 5)        16,10,10 \n",
    "        self.fc1 = nn.Linear(16 * 5 * 5, 120)\n",
    "        self.fc2 = nn.Linear(120, 84)\n",
    "        self.fc3 = nn.Linear(84, 10)\n",
    "\n",
    "    def forward(self, x):\n",
    "        x = self.pool(F.relu(self.conv1(x)))\n",
    "        x = self.pool(F.relu(self.conv2(x)))\n",
    "        x = x.view(-1, 16 * 5 * 5)\n",
    "        x = F.relu(self.fc1(x))\n",
    "        x = F.relu(self.fc2(x))\n",
    "        x = self.fc3(x)\n",
    "        return x\n",
    "\n",
    "\n",
    "model = Net()"
   ]
  },
  {
   "cell_type": "code",
   "execution_count": 12,
   "metadata": {},
   "outputs": [],
   "source": [
    "criterion = nn.CrossEntropyLoss()\n",
    "optimizer = torch.optim.SGD(model.parameters(), lr=learning_rate)"
   ]
  },
  {
   "cell_type": "code",
   "execution_count": 13,
   "metadata": {},
   "outputs": [
    {
     "name": "stdout",
     "output_type": "stream",
     "text": [
      "Epoch [1/10], Step [2000/12500], Loss: 2.2475\n",
      "Epoch [1/10], Step [4000/12500], Loss: 2.2995\n",
      "Epoch [1/10], Step [6000/12500], Loss: 2.3064\n",
      "Epoch [1/10], Step [8000/12500], Loss: 2.2599\n",
      "Epoch [1/10], Step [10000/12500], Loss: 1.9617\n",
      "Epoch [1/10], Step [12000/12500], Loss: 1.7477\n",
      "Epoch [2/10], Step [2000/12500], Loss: 1.7268\n",
      "Epoch [2/10], Step [4000/12500], Loss: 2.2024\n",
      "Epoch [2/10], Step [6000/12500], Loss: 1.8493\n",
      "Epoch [2/10], Step [8000/12500], Loss: 1.9940\n",
      "Epoch [2/10], Step [10000/12500], Loss: 2.4617\n",
      "Epoch [2/10], Step [12000/12500], Loss: 1.3883\n",
      "Epoch [3/10], Step [2000/12500], Loss: 1.7538\n",
      "Epoch [3/10], Step [4000/12500], Loss: 2.0058\n",
      "Epoch [3/10], Step [6000/12500], Loss: 1.1916\n",
      "Epoch [3/10], Step [8000/12500], Loss: 1.5498\n",
      "Epoch [3/10], Step [10000/12500], Loss: 1.2519\n",
      "Epoch [3/10], Step [12000/12500], Loss: 1.5357\n",
      "Epoch [4/10], Step [2000/12500], Loss: 1.6608\n",
      "Epoch [4/10], Step [4000/12500], Loss: 0.9803\n",
      "Epoch [4/10], Step [6000/12500], Loss: 1.5645\n",
      "Epoch [4/10], Step [8000/12500], Loss: 1.2610\n",
      "Epoch [4/10], Step [10000/12500], Loss: 1.1521\n",
      "Epoch [4/10], Step [12000/12500], Loss: 0.9301\n",
      "Epoch [5/10], Step [2000/12500], Loss: 1.4230\n",
      "Epoch [5/10], Step [4000/12500], Loss: 1.3436\n",
      "Epoch [5/10], Step [6000/12500], Loss: 0.6128\n",
      "Epoch [5/10], Step [8000/12500], Loss: 1.4896\n",
      "Epoch [5/10], Step [10000/12500], Loss: 1.7868\n",
      "Epoch [5/10], Step [12000/12500], Loss: 1.9120\n",
      "Epoch [6/10], Step [2000/12500], Loss: 1.4121\n",
      "Epoch [6/10], Step [4000/12500], Loss: 2.5494\n",
      "Epoch [6/10], Step [6000/12500], Loss: 1.7314\n",
      "Epoch [6/10], Step [8000/12500], Loss: 1.3312\n",
      "Epoch [6/10], Step [10000/12500], Loss: 0.6266\n",
      "Epoch [6/10], Step [12000/12500], Loss: 1.0115\n",
      "Epoch [7/10], Step [2000/12500], Loss: 1.0968\n",
      "Epoch [7/10], Step [4000/12500], Loss: 1.1839\n",
      "Epoch [7/10], Step [6000/12500], Loss: 1.0736\n",
      "Epoch [7/10], Step [8000/12500], Loss: 2.0095\n",
      "Epoch [7/10], Step [10000/12500], Loss: 1.0793\n",
      "Epoch [7/10], Step [12000/12500], Loss: 1.0489\n",
      "Epoch [8/10], Step [2000/12500], Loss: 1.5084\n",
      "Epoch [8/10], Step [4000/12500], Loss: 1.9450\n",
      "Epoch [8/10], Step [6000/12500], Loss: 0.9004\n",
      "Epoch [8/10], Step [8000/12500], Loss: 1.5364\n",
      "Epoch [8/10], Step [10000/12500], Loss: 1.1972\n",
      "Epoch [8/10], Step [12000/12500], Loss: 1.6387\n",
      "Epoch [9/10], Step [2000/12500], Loss: 0.7140\n",
      "Epoch [9/10], Step [4000/12500], Loss: 1.6251\n",
      "Epoch [9/10], Step [6000/12500], Loss: 2.1899\n",
      "Epoch [9/10], Step [8000/12500], Loss: 0.7365\n",
      "Epoch [9/10], Step [10000/12500], Loss: 2.2338\n",
      "Epoch [9/10], Step [12000/12500], Loss: 1.8648\n",
      "Epoch [10/10], Step [2000/12500], Loss: 1.1261\n",
      "Epoch [10/10], Step [4000/12500], Loss: 1.2090\n",
      "Epoch [10/10], Step [6000/12500], Loss: 1.0149\n",
      "Epoch [10/10], Step [8000/12500], Loss: 1.3264\n",
      "Epoch [10/10], Step [10000/12500], Loss: 1.3627\n",
      "Epoch [10/10], Step [12000/12500], Loss: 1.2586\n",
      "Finished Training\n"
     ]
    }
   ],
   "source": [
    "#training\n",
    "n_total_steps = len(train_loader)\n",
    "for epoch in range(num_epochs):\n",
    "    for i, (images,labels) in enumerate(train_loader):\n",
    "        \n",
    "        images = images.to(device)\n",
    "        labels = labels.to(device)\n",
    "        \n",
    "        #Forward pass\n",
    "        output = model(images)\n",
    "        loss = criterion(output, labels)\n",
    "        \n",
    "        #backward and optimizer\n",
    "        optimizer.zero_grad()\n",
    "        loss.backward()\n",
    "        optimizer.step()\n",
    "        \n",
    "        if (i+1) % 2000 == 0:\n",
    "            print (f'Epoch [{epoch+1}/{num_epochs}], Step [{i+1}/{n_total_steps}], Loss: {loss.item():.4f}')\n",
    "            \n",
    "print('Finished Training')\n",
    "        \n",
    "    \n",
    "    \n",
    "    "
   ]
  },
  {
   "cell_type": "code",
   "execution_count": 21,
   "metadata": {},
   "outputs": [
    {
     "name": "stdout",
     "output_type": "stream",
     "text": [
      "Accuracy of the network: 56.03 %\n",
      "Accuracy of plane: 61.1 %\n",
      "Accuracy of car: 76.2 %\n",
      "Accuracy of bird: 41.9 %\n",
      "Accuracy of cat: 30.3 %\n",
      "Accuracy of deer: 36.5 %\n",
      "Accuracy of dog: 38.4 %\n",
      "Accuracy of frog: 71.4 %\n",
      "Accuracy of horse: 71.8 %\n",
      "Accuracy of ship: 66.4 %\n",
      "Accuracy of truck: 66.3 %\n"
     ]
    }
   ],
   "source": [
    "#testing\n",
    "\n",
    "with torch.no_grad():\n",
    "    n_correct = 0\n",
    "    n_samples = 0\n",
    "    n_class_correct = [0 for i in range(10)]\n",
    "    n_class_samples = [0 for i in range(10)]\n",
    "    for images, labels in test_loader:\n",
    "        images = images.to(device)\n",
    "        labels = labels.to(device)\n",
    "        outputs = model(images)\n",
    "        # max returns (value ,index)\n",
    "        _, predicted = torch.max(outputs, 1)\n",
    "        n_samples += labels.size(0)\n",
    "        n_correct += (predicted == labels).sum().item()\n",
    "        \n",
    "        for i in range(batch_size):\n",
    "            label = labels[i]\n",
    "            pred = predicted[i]\n",
    "            if (label == pred):\n",
    "                n_class_correct[label] += 1\n",
    "            n_class_samples[label] += 1\n",
    "\n",
    "    acc = 100.0 * n_correct / n_samples\n",
    "    print(f'Accuracy of the network: {acc} %')\n",
    "\n",
    "    for i in range(10):\n",
    "        acc = 100.0 * n_class_correct[i] / n_class_samples[i]\n",
    "        print(f'Accuracy of {classes[i]}: {acc} %')"
   ]
  },
  {
   "cell_type": "code",
   "execution_count": null,
   "metadata": {},
   "outputs": [],
   "source": []
  }
 ],
 "metadata": {
  "kernelspec": {
   "display_name": "Python 3",
   "language": "python",
   "name": "python3"
  },
  "language_info": {
   "codemirror_mode": {
    "name": "ipython",
    "version": 3
   },
   "file_extension": ".py",
   "mimetype": "text/x-python",
   "name": "python",
   "nbconvert_exporter": "python",
   "pygments_lexer": "ipython3",
   "version": "3.8.5"
  }
 },
 "nbformat": 4,
 "nbformat_minor": 4
}
